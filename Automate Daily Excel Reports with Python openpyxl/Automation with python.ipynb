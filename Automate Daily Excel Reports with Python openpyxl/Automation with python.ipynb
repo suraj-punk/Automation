{
 "cells": [
  {
   "cell_type": "markdown",
   "id": "3faabb1c",
   "metadata": {},
   "source": [
    "## Importing libraries"
   ]
  },
  {
   "cell_type": "code",
   "execution_count": 23,
   "id": "c7a9cf58",
   "metadata": {},
   "outputs": [],
   "source": [
    "import pandas as pd\n",
    "import openpyxl\n",
    "from openpyxl import load_workbook\n",
    "from openpyxl.styles import Font\n",
    "from openpyxl.chart import BarChart, Reference\n",
    "import string\n",
    "import xlsxwriter"
   ]
  },
  {
   "cell_type": "markdown",
   "id": "ffb5bfc1",
   "metadata": {},
   "source": [
    "### Working with excel file"
   ]
  },
  {
   "cell_type": "markdown",
   "id": "1c9789d8",
   "metadata": {},
   "source": [
    "##### We have added excel file from local disk, however can be added to jupyter notebook using json, ODBC, redshift etc"
   ]
  },
  {
   "cell_type": "code",
   "execution_count": 24,
   "id": "4fb0ce36",
   "metadata": {},
   "outputs": [],
   "source": [
    "# Importing excel file\n",
    "wbs=pd.read_excel('sales_records.xlsx',sheet_name=None)"
   ]
  },
  {
   "cell_type": "code",
   "execution_count": 25,
   "id": "1db4b64d",
   "metadata": {},
   "outputs": [
    {
     "name": "stdout",
     "output_type": "stream",
     "text": [
      "number of sheets: 1\n",
      "sheet names: dict_keys(['sales_records'])\n"
     ]
    }
   ],
   "source": [
    "# checking number of sheets in the excel file and sheet\n",
    "num_of_sheets=len(wbs.keys())\n",
    "sheet_names=wbs.keys()\n",
    "print('number of sheets: '+ str(num_of_sheets) )\n",
    "print('sheet names: '+ str(sheet_names) )"
   ]
  },
  {
   "cell_type": "code",
   "execution_count": 26,
   "id": "4b8d2e08",
   "metadata": {},
   "outputs": [
    {
     "name": "stdout",
     "output_type": "stream",
     "text": [
      "sales_records has 100000 rows\n"
     ]
    }
   ],
   "source": [
    "# number of rows in each sheet\n",
    "for sheet_name in wbs.keys():\n",
    "    print(str(sheet_name) + \" has \" + str(len(wbs[sheet_name].index)) + \" rows\")"
   ]
  },
  {
   "cell_type": "code",
   "execution_count": 27,
   "id": "1cc0bd3d",
   "metadata": {},
   "outputs": [],
   "source": [
    "# checking head/tail on both sheets \n",
    "def display_first_n_rows(wbs,sheet_names,n):\n",
    "    print(wbs[sheet_names].head(n))"
   ]
  },
  {
   "cell_type": "code",
   "execution_count": 28,
   "id": "3eef370f",
   "metadata": {},
   "outputs": [
    {
     "name": "stdout",
     "output_type": "stream",
     "text": [
      "Results of sheet:0\n",
      "\n",
      "                              Region                Country      Item Type  \\\n",
      "0       Middle East and North Africa             Azerbaijan         Snacks   \n",
      "1  Central America and the Caribbean                 Panama      Cosmetics   \n",
      "2                 Sub-Saharan Africa  Sao Tome and Principe         Fruits   \n",
      "3                 Sub-Saharan Africa  Sao Tome and Principe  Personal Care   \n",
      "4  Central America and the Caribbean                 Belize      Household   \n",
      "5                             Europe                Denmark        Clothes   \n",
      "6                             Europe                Germany      Cosmetics   \n",
      "7       Middle East and North Africa                 Turkey         Fruits   \n",
      "8                             Europe         United Kingdom         Snacks   \n",
      "9                               Asia             Kazakhstan      Cosmetics   \n",
      "\n",
      "  Sales Channel Order Priority           Order Date   Order ID  \\\n",
      "0        Online              C  2014-08-10 00:00:00  535113847   \n",
      "1       Offline              L            2/22/2015  874708545   \n",
      "2       Offline              M  2015-09-12 00:00:00  854349935   \n",
      "3        Online              M            9/17/2014  892836844   \n",
      "4       Offline              H  2010-04-02 00:00:00  129280602   \n",
      "5        Online              C            2/20/2013  473105037   \n",
      "6       Offline              M            3/31/2013  754046475   \n",
      "7        Online              C            3/26/2012  772153747   \n",
      "8        Online              H           12/29/2012  847788178   \n",
      "9        Online              H  2015-11-09 00:00:00  471623599   \n",
      "\n",
      "             Ship Date  Units Sold  Unit Price  Unit Cost  Total Revenue  \\\n",
      "0           10/23/2014         934      152.58      97.44      142509.72   \n",
      "1            2/27/2015        4551      437.20     263.33     1989697.20   \n",
      "2            1/18/2016        9986        9.33       6.92       93169.38   \n",
      "3  2014-12-10 00:00:00        9118       81.73      56.67      745214.14   \n",
      "4  2010-05-03 00:00:00        5858      668.27     502.54     3914725.66   \n",
      "5            2/28/2013        1149      109.28      35.84      125562.72   \n",
      "6  2013-03-05 00:00:00        7964      437.20     263.33     3481860.80   \n",
      "7  2012-07-04 00:00:00        6307        9.33       6.92       58844.31   \n",
      "8            1/15/2013        8217      152.58      97.44     1253749.86   \n",
      "9            9/18/2015        2758      437.20     263.33     1205797.60   \n",
      "\n",
      "   Total Cost  Total Profit  \n",
      "0    91008.96      51500.76  \n",
      "1  1198414.83     791282.37  \n",
      "2    69103.12      24066.26  \n",
      "3   516717.06     228497.08  \n",
      "4  2943879.32     970846.34  \n",
      "5    41180.16      84382.56  \n",
      "6  2097160.12    1384700.68  \n",
      "7    43644.44      15199.87  \n",
      "8   800664.48     453085.38  \n",
      "9   726264.14     479533.46  \n",
      "None\n"
     ]
    }
   ],
   "source": [
    "# Checking first n rows of all the sheets\n",
    "for i in range(num_of_sheets):\n",
    "    print(\"Results of sheet:\" + str(i) + '\\n')\n",
    "    print(display_first_n_rows(wbs,list(wbs.keys())[i],10))"
   ]
  },
  {
   "cell_type": "code",
   "execution_count": 29,
   "id": "55558f10",
   "metadata": {},
   "outputs": [],
   "source": [
    "# Concatenate both the sheets\n",
    "df = pd.concat(wbs, ignore_index=True)"
   ]
  },
  {
   "cell_type": "code",
   "execution_count": 30,
   "id": "987d711c",
   "metadata": {},
   "outputs": [
    {
     "data": {
      "text/plain": [
       "(                              Region                Country      Item Type  \\\n",
       " 0       Middle East and North Africa             Azerbaijan         Snacks   \n",
       " 1  Central America and the Caribbean                 Panama      Cosmetics   \n",
       " 2                 Sub-Saharan Africa  Sao Tome and Principe         Fruits   \n",
       " 3                 Sub-Saharan Africa  Sao Tome and Principe  Personal Care   \n",
       " 4  Central America and the Caribbean                 Belize      Household   \n",
       " \n",
       "   Sales Channel Order Priority           Order Date   Order ID  \\\n",
       " 0        Online              C  2014-08-10 00:00:00  535113847   \n",
       " 1       Offline              L            2/22/2015  874708545   \n",
       " 2       Offline              M  2015-09-12 00:00:00  854349935   \n",
       " 3        Online              M            9/17/2014  892836844   \n",
       " 4       Offline              H  2010-04-02 00:00:00  129280602   \n",
       " \n",
       "              Ship Date  Units Sold  Unit Price  Unit Cost  Total Revenue  \\\n",
       " 0           10/23/2014         934      152.58      97.44      142509.72   \n",
       " 1            2/27/2015        4551      437.20     263.33     1989697.20   \n",
       " 2            1/18/2016        9986        9.33       6.92       93169.38   \n",
       " 3  2014-12-10 00:00:00        9118       81.73      56.67      745214.14   \n",
       " 4  2010-05-03 00:00:00        5858      668.27     502.54     3914725.66   \n",
       " \n",
       "    Total Cost  Total Profit  \n",
       " 0    91008.96      51500.76  \n",
       " 1  1198414.83     791282.37  \n",
       " 2    69103.12      24066.26  \n",
       " 3   516717.06     228497.08  \n",
       " 4  2943879.32     970846.34  ,\n",
       "                              Region   Country  Item Type Sales Channel  \\\n",
       " 99995            Sub-Saharan Africa     Niger     Cereal       Offline   \n",
       " 99996                        Europe    Poland       Meat       Offline   \n",
       " 99997            Sub-Saharan Africa   Comoros    Clothes        Online   \n",
       " 99998  Middle East and North Africa    Kuwait  Cosmetics        Online   \n",
       " 99999            Sub-Saharan Africa  Tanzania  Cosmetics       Offline   \n",
       " \n",
       "       Order Priority           Order Date   Order ID            Ship Date  \\\n",
       " 99995              L            8/26/2012  836322486  2012-11-09 00:00:00   \n",
       " 99996              C  2013-03-12 00:00:00  110449349  2013-10-12 00:00:00   \n",
       " 99997              M  2013-07-08 00:00:00  193128764            8/31/2013   \n",
       " 99998              L            6/28/2011  701597058  2011-03-07 00:00:00   \n",
       " 99999              C  2012-03-04 00:00:00  423403060            4/30/2012   \n",
       " \n",
       "        Units Sold  Unit Price  Unit Cost  Total Revenue  Total Cost  \\\n",
       " 99995        5263      205.70     117.11     1082599.10   616349.93   \n",
       " 99996        3272      421.89     364.69     1380424.08  1193265.68   \n",
       " 99997        9948      109.28      35.84     1087117.44   356536.32   \n",
       " 99998        7015      437.20     263.33     3066958.00  1847259.95   \n",
       " 99999        3229      437.20     263.33     1411718.80   850292.57   \n",
       " \n",
       "        Total Profit  \n",
       " 99995     466249.17  \n",
       " 99996     187158.40  \n",
       " 99997     730581.12  \n",
       " 99998    1219698.05  \n",
       " 99999     561426.23  )"
      ]
     },
     "execution_count": 30,
     "metadata": {},
     "output_type": "execute_result"
    }
   ],
   "source": [
    "df.head(5),df.tail(5)"
   ]
  },
  {
   "cell_type": "markdown",
   "id": "65d174f6",
   "metadata": {},
   "source": [
    "## Making pivot table"
   ]
  },
  {
   "cell_type": "code",
   "execution_count": 31,
   "id": "fc4aca88",
   "metadata": {},
   "outputs": [
    {
     "data": {
      "text/plain": [
       "Index(['Region', 'Country', 'Item Type', 'Sales Channel', 'Order Priority',\n",
       "       'Order Date', 'Order ID', 'Ship Date', 'Units Sold', 'Unit Price',\n",
       "       'Unit Cost', 'Total Revenue', 'Total Cost', 'Total Profit'],\n",
       "      dtype='object')"
      ]
     },
     "execution_count": 31,
     "metadata": {},
     "output_type": "execute_result"
    }
   ],
   "source": [
    "# Check column names\n",
    "df.columns"
   ]
  },
  {
   "cell_type": "code",
   "execution_count": 32,
   "id": "22244e03",
   "metadata": {},
   "outputs": [],
   "source": [
    "#Total profit by region\n",
    "report_table_1= df.pivot_table(index=['Region'],\n",
    "                                      values=['Total Profit'],columns='Item Type',\n",
    "                                      aggfunc='sum',margins=True,margins_name='Grand Total').round(0)"
   ]
  },
  {
   "cell_type": "code",
   "execution_count": 33,
   "id": "41547ab2",
   "metadata": {},
   "outputs": [],
   "source": [
    "#Total revenue By country\n",
    "report_table_2= df.pivot_table(index=['Sales Channel'],\n",
    "                                      values=['Total Profit'],columns='Item Type',\n",
    "                                      aggfunc='sum',margins=True,margins_name='Grand Total').round(0)"
   ]
  },
  {
   "cell_type": "code",
   "execution_count": 34,
   "id": "e8a6eb35",
   "metadata": {},
   "outputs": [],
   "source": [
    "#Total profit by order priority\n",
    "report_table_3=df.pivot_table(index=['Item Type',],\n",
    "                                      values=['Total Profit'],columns='Order Priority',\n",
    "                                      aggfunc='sum',margins=True,margins_name='Grand Total').round(0)"
   ]
  },
  {
   "cell_type": "code",
   "execution_count": 35,
   "id": "b0837c6e",
   "metadata": {},
   "outputs": [],
   "source": [
    "#Total Revenue by Sales Channel\n",
    "report_table_4= df.pivot_table(index=['Region'],\n",
    "                                      values=['Units Sold','Total Revenue','Total Cost','Total Profit','Unit Price'],\n",
    "                                      aggfunc='mean').round(0)"
   ]
  },
  {
   "cell_type": "code",
   "execution_count": 36,
   "id": "7dfc51b0",
   "metadata": {},
   "outputs": [],
   "source": [
    "# we can also add multiple indexes and values for more informative reports\n",
    "report_table_5= df.pivot_table(index=['Region','Sales Channel'],\n",
    "                                      values=['Units Sold','Total Revenue','Total Cost','Total Profit','Unit Price'],\n",
    "                                      aggfunc='mean').round(0)"
   ]
  },
  {
   "cell_type": "code",
   "execution_count": 37,
   "id": "b3f1c2d9",
   "metadata": {},
   "outputs": [],
   "source": [
    "# create a excel writer object\n",
    "with pd.ExcelWriter(\"Summary.xlsx\") as writer:\n",
    "   \n",
    "    # use to_excel function and specify the sheet_name and index\n",
    "    # to store the dataframe in specified sheet\n",
    "    report_table_1.to_excel(writer, sheet_name=\"profits_regions\")\n",
    "    report_table_2.to_excel(writer, sheet_name=\"Sales_profit\")\n",
    "    report_table_3.to_excel(writer, sheet_name=\"Item type profit\")\n",
    "    report_table_4.to_excel(writer, sheet_name=\"Regions\")\n",
    "    report_table_5.to_excel(writer, sheet_name=\"Regions_SalesChannel\")"
   ]
  },
  {
   "cell_type": "code",
   "execution_count": 42,
   "id": "e49f9e72",
   "metadata": {},
   "outputs": [],
   "source": [
    "# Changing Font\n",
    "wb = load_workbook('Summary.xlsx')\n",
    "sheet = wb['profits_regions']\n",
    "sheet['A1'] = 'Region wise profit'\n",
    "sheet['A2'] = 'Regions Vs Profits'\n",
    "sheet['A1'].font = Font('Arial', bold=True, size=20)\n",
    "sheet['A2'].font = Font('Arial', bold=True, size=10)\n",
    "wb.save('Summary.xlsx')"
   ]
  },
  {
   "cell_type": "code",
   "execution_count": null,
   "id": "12dcc567",
   "metadata": {},
   "outputs": [],
   "source": []
  }
 ],
 "metadata": {
  "kernelspec": {
   "display_name": "Python 3",
   "language": "python",
   "name": "python3"
  },
  "language_info": {
   "codemirror_mode": {
    "name": "ipython",
    "version": 3
   },
   "file_extension": ".py",
   "mimetype": "text/x-python",
   "name": "python",
   "nbconvert_exporter": "python",
   "pygments_lexer": "ipython3",
   "version": "3.8.8"
  }
 },
 "nbformat": 4,
 "nbformat_minor": 5
}
